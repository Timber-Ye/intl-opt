{
 "cells": [
  {
   "cell_type": "markdown",
   "id": "de51fe82-7e17-4161-94cb-9880954eb634",
   "metadata": {},
   "source": [
    "# Forward Neural Network Training"
   ]
  },
  {
   "cell_type": "code",
   "execution_count": null,
   "id": "dca284b1-d2cb-4176-970b-6808338c8598",
   "metadata": {},
   "outputs": [],
   "source": [
    "import numpy as np\n",
    "\n",
    "raw_data = [2056, 2395, 2600, 2298, 1634, 1600, 1873, 1478, 1900]"
   ]
  }
 ],
 "metadata": {
  "kernelspec": {
   "display_name": "Python 3",
   "language": "python",
   "name": "python3"
  },
  "language_info": {
   "codemirror_mode": {
    "name": "ipython",
    "version": 3
   },
   "file_extension": ".py",
   "mimetype": "text/x-python",
   "name": "python",
   "nbconvert_exporter": "python",
   "pygments_lexer": "ipython3",
   "version": "3.9.13"
  }
 },
 "nbformat": 4,
 "nbformat_minor": 5
}
